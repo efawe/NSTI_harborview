{
 "cells": [
  {
   "cell_type": "markdown",
   "metadata": {
    "colab_type": "text",
    "id": "9j0RvBIZDRrF"
   },
   "source": [
    "# NSTI Modeling preset "
   ]
  },
  {
   "cell_type": "code",
   "execution_count": 181,
   "metadata": {
    "colab": {},
    "colab_type": "code",
    "id": "AaklX6wqHWkB"
   },
   "outputs": [],
   "source": [
    "import numpy as np\n",
    "import pandas as pd # data import and maniplation \n",
    "import os \n",
    "import seaborn as sns # data visualization \n",
    "import matplotlib.pyplot as plt # data visualization \n",
    "import re\n",
    "from datetime import datetime, timedelta\n",
    "\n",
    "from sklearn import datasets, linear_model # regression\n",
    "from sklearn.linear_model import LogisticRegression\n",
    "from sklearn.model_selection import train_test_split # data split "
   ]
  },
  {
   "cell_type": "markdown",
   "metadata": {
    "colab_type": "text",
    "id": "v58D08elDRrI"
   },
   "source": [
    "# Input data\n",
    "\n",
    "Input: 4 filess \n",
    "\n",
    "Output: 4 dataframes that are stripped "
   ]
  },
  {
   "cell_type": "code",
   "execution_count": 182,
   "metadata": {
    "colab": {
     "base_uri": "https://localhost:8080/",
     "height": 176,
     "resources": {
      "http://localhost:8080/nbextensions/google.colab/files.js": {
       "data": "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",
       "headers": [
        [
         "content-type",
         "application/javascript"
        ]
       ],
       "ok": true,
       "status": 200,
       "status_text": ""
      }
     }
    },
    "colab_type": "code",
    "id": "libBeF-FEkHj",
    "outputId": "c53021b0-86f5-48a0-864e-95856203914d"
   },
   "outputs": [],
   "source": [
    "# if I want to change between google collab or spyder \n",
    "if False:\n",
    "    from google.colab import files\n",
    "    files.upload()    \n",
    "nsti_med = pd.read_csv(\"NSTI_meds_for_KL.csv\", na_values = [\"NA\"])\n",
    "nsti_debride = pd.read_csv(\"NSTI_debride_for_KL.csv\", na_values = [\"NA\"])\n",
    "nsti = pd.read_csv(\"NSTI_for_KL.csv\", na_values = [\"NA\"])\n",
    "nsti_wbc = pd.read_csv(\"NSTI_WBC_updated_for_KL.csv\")\n",
    "\n",
    "#issues with extra white spaces \n",
    "nsti_med.columns = nsti_med.columns.str.strip().str.lower().str.replace(' ', '_').str.replace('(', '').str.replace(')', '')\n",
    "nsti_debride.columns = nsti_debride.columns.str.strip().str.lower().str.replace(' ', '_').str.replace('(', '').str.replace(')', '')\n",
    "nsti.columns = nsti.columns.str.strip().str.lower().str.replace(' ', '_').str.replace('(', '').str.replace(')', '')\n",
    "nsti_wbc.columns = nsti_wbc.columns.str.strip().str.lower().str.replace(' ', '_').str.replace('(', '').str.replace(')', '')\n",
    "\n",
    "#issues with extra white spaces \n",
    "nsti_medt = nsti_med.apply(lambda x: x.str.strip() if x.dtype == \"object\" else x)\n",
    "nsti_debridet = nsti_debride.apply(lambda x: x.str.strip() if x.dtype == \"object\" else x)\n",
    "nstit = nsti.apply(lambda x: x.str.strip() if x.dtype == \"object\" else x)\n",
    "nsti_wbct = nsti_wbc.apply(lambda x: x.str.strip() if x.dtype == \"object\" else x)"
   ]
  },
  {
   "cell_type": "markdown",
   "metadata": {
    "colab_type": "text",
    "id": "E3VyA5x0DRrL"
   },
   "source": [
    "## Shape of the datasets"
   ]
  },
  {
   "cell_type": "code",
   "execution_count": 183,
   "metadata": {
    "colab": {
     "base_uri": "https://localhost:8080/",
     "height": 102
    },
    "colab_type": "code",
    "id": "sd58sVZGE-mm",
    "outputId": "c22c62c2-dd8e-4a6f-a5b0-10943880d2b9"
   },
   "outputs": [
    {
     "name": "stdout",
     "output_type": "stream",
     "text": [
      "(35410, 6)\n",
      "(502, 80)\n",
      "(432, 78)\n",
      "(9730, 7)\n"
     ]
    }
   ],
   "source": [
    "print(nsti_medt.shape)\n",
    "print(nsti_debridet.shape)\n",
    "print(nstit.shape)\n",
    "print(nsti_wbct.shape)"
   ]
  },
  {
   "cell_type": "markdown",
   "metadata": {
    "colab_type": "text",
    "id": "DkZEC01AcPZ4"
   },
   "source": [
    "# NSTI clean up / merge "
   ]
  },
  {
   "cell_type": "code",
   "execution_count": 184,
   "metadata": {
    "colab": {},
    "colab_type": "code",
    "id": "98XJn0NIHLOy"
   },
   "outputs": [],
   "source": [
    "#removes the suffix in the nsti dataset for easier merging \n",
    "nstit['patient'] = pd.to_numeric(nstit['patient'].str.split(\"*\", n = 1, expand = True)[0])"
   ]
  },
  {
   "cell_type": "markdown",
   "metadata": {
    "colab_type": "text",
    "id": "EbGmAqbtjWXb"
   },
   "source": [
    "# [NSTI med]Data manipulation\n"
   ]
  },
  {
   "cell_type": "markdown",
   "metadata": {},
   "source": [
    "## [NSTI med] cleanup \n",
    "\n",
    "Removes NA's + other clean up"
   ]
  },
  {
   "cell_type": "code",
   "execution_count": 186,
   "metadata": {
    "colab": {},
    "colab_type": "code",
    "id": "FL_zSzqQjt19"
   },
   "outputs": [],
   "source": [
    "# removes bad entries \n",
    "nsti_medt = nsti_medt[(nsti_medt[\"med_start_date\"] != \"NOT\") & \n",
    "                      (nsti_medt[\"med_start_date\"] != \"\")  & \n",
    "                      (nsti_medt[\"med_start_date\"] != \"UNK\") & \n",
    "                      (nsti_medt[\"med_start_date\"] != \"NA\")]\n",
    "\n",
    "# removes antibiotics that aren't needed\n",
    "nsti_medt = nsti_medt[~  nsti_medt['meds'].isin([\"DOBU\", \"ENOX\", \"EPINEP\", \"NOPRESS\", \"STERIOD\", \"VASO\", \"WARF\", \n",
    "                                                 \"ANTIBIOT\", \"DOP\", \"HEP\", \"IVIG\", \"NOREPI\", \"PCC\", \"SOFA\"])]\n",
    "\n",
    "#removes stuff from time date \n",
    "nsti_medt[\"med_start_time\"] = nsti_medt[\"med_start_time\"].apply(lambda x: x.replace(\"NOT\", \"0:00\")).apply(lambda x: x.replace(\"UNK\", \"0:00\")).apply(lambda x: x.replace(\"NA\", \"0:00\"))"
   ]
  },
  {
   "cell_type": "markdown",
   "metadata": {
    "colab_type": "text",
    "id": "1b-FUvwwDRre"
   },
   "source": [
    "## [NSTI med][NSTI wbc]  Data Manipulation\n",
    "\n",
    "Combining date and time and converting it to time date format\n",
    "\n",
    "Also converting the time of wbc for validation"
   ]
  },
  {
   "cell_type": "code",
   "execution_count": 197,
   "metadata": {
    "colab": {},
    "colab_type": "code",
    "id": "N48n-m74_oXr"
   },
   "outputs": [],
   "source": [
    "# combines into a full date and formats the string type\n",
    "nsti_medt['total_time'] = nsti_medt['med_start_date'] + \" \" + nsti_medt['med_start_time']\n",
    "nsti_medt['total_time'] = pd.to_datetime(nsti_medt['total_time'].apply(lambda x: x.strip(\" \")), format = '%m/%d/%Y %H:%M')\n",
    "\n",
    "#remove the parent columns \n",
    "nsti_medt = nsti_medt[nsti_medt.columns[~nsti_medt.columns.str.contains('med_start')]]\n",
    "\n",
    "# Formating the times to time data\n",
    "nsti_wbct['observationdttm'] = pd.to_datetime(nsti_wbct['observationdttm'].apply(lambda x: x.strip(\" \")), format = '%m/%d/%y %H:%M')\n",
    "nsti_wbct['specimenreceiveddttm'] = pd.to_datetime(nsti_wbct['specimenreceiveddttm'].apply(lambda x: x.strip(\" \")), format = '%m/%d/%y %H:%M')"
   ]
  },
  {
   "cell_type": "markdown",
   "metadata": {},
   "source": [
    "## [NSTI_medt][NSTI_wbct] Date validation\n",
    "ASK: Match the last WBC date to the last date in the medication\n",
    "\n",
    "\n",
    "Notes: Outputed a csv towards comparing the different latest times in the medication and wbc files \n"
   ]
  },
  {
   "cell_type": "code",
   "execution_count": 225,
   "metadata": {},
   "outputs": [],
   "source": [
    "# Takes medt and wbct df, abstracts identifer and time, takes only the most recent date of each patient \n",
    "testmedt = nsti_medt.sort_values(by = ['study_id','total_time'], ascending = [True, False]).drop_duplicates(subset = ['study_id'], keep = 'first')\n",
    "testwbct = nsti_wbct.sort_values(by = ['patient', 'observationdttm'], ascending = [True, False]).drop_duplicates(subset = ['patient'], keep = 'first')"
   ]
  },
  {
   "cell_type": "code",
   "execution_count": 224,
   "metadata": {
    "collapsed": true,
    "jupyter": {
     "outputs_hidden": true
    }
   },
   "outputs": [
    {
     "data": {
      "text/html": [
       "<div>\n",
       "<style scoped>\n",
       "    .dataframe tbody tr th:only-of-type {\n",
       "        vertical-align: middle;\n",
       "    }\n",
       "\n",
       "    .dataframe tbody tr th {\n",
       "        vertical-align: top;\n",
       "    }\n",
       "\n",
       "    .dataframe thead th {\n",
       "        text-align: right;\n",
       "    }\n",
       "</style>\n",
       "<table border=\"1\" class=\"dataframe\">\n",
       "  <thead>\n",
       "    <tr style=\"text-align: right;\">\n",
       "      <th></th>\n",
       "      <th>study_id</th>\n",
       "      <th>admit_date</th>\n",
       "      <th>meds</th>\n",
       "      <th>med_location</th>\n",
       "      <th>total_time</th>\n",
       "    </tr>\n",
       "  </thead>\n",
       "  <tbody>\n",
       "    <tr>\n",
       "      <th>13791</th>\n",
       "      <td>1</td>\n",
       "      <td>3/18/2015</td>\n",
       "      <td>MERO</td>\n",
       "      <td>NA</td>\n",
       "      <td>2015-04-22 09:33:00</td>\n",
       "    </tr>\n",
       "    <tr>\n",
       "      <th>13757</th>\n",
       "      <td>1</td>\n",
       "      <td>3/18/2015</td>\n",
       "      <td>MERO</td>\n",
       "      <td>NA</td>\n",
       "      <td>2015-04-22 00:46:00</td>\n",
       "    </tr>\n",
       "    <tr>\n",
       "      <th>13801</th>\n",
       "      <td>1</td>\n",
       "      <td>3/18/2015</td>\n",
       "      <td>MERO</td>\n",
       "      <td>NA</td>\n",
       "      <td>2015-04-21 16:40:00</td>\n",
       "    </tr>\n",
       "  </tbody>\n",
       "</table>\n",
       "</div>"
      ],
      "text/plain": [
       "       study_id admit_date  meds med_location          total_time\n",
       "13791         1  3/18/2015  MERO           NA 2015-04-22 09:33:00\n",
       "13757         1  3/18/2015  MERO           NA 2015-04-22 00:46:00\n",
       "13801         1  3/18/2015  MERO           NA 2015-04-21 16:40:00"
      ]
     },
     "execution_count": 224,
     "metadata": {},
     "output_type": "execute_result"
    }
   ],
   "source": [
    "# Merges the two df's above on each respective identifier\n",
    "testmedt[['study_id','total_time']].merge(testwbct[['patient','observationdttm']], left_on = 'study_id', right_on = 'patient')\n",
    "#testmedt[['study_id','total_time']].merge(testwbct[['patient','observationdttm']], left_on = 'study_id', right_on = 'patient').to_csv('med_vs_wbc.csv')"
   ]
  },
  {
   "cell_type": "markdown",
   "metadata": {
    "colab_type": "text",
    "id": "TAAIXIqUDRrh"
   },
   "source": [
    "## Creating a proxy dataset for just total time andy study id"
   ]
  },
  {
   "cell_type": "code",
   "execution_count": 226,
   "metadata": {
    "colab": {},
    "colab_type": "code",
    "id": "ZgAoLRA4XF8o"
   },
   "outputs": [],
   "source": [
    "# makes it so there isn't any duplicate \n",
    "nsti_med_max = nsti_medt[['study_id', 'total_time']]\n",
    "nsti_med_max = nsti_med_max.drop_duplicates(subset = ['study_id', 'total_time'], keep = 'first')\n",
    "idx = nsti_med_max.groupby(['study_id'])['total_time'].transform(max) == nsti_med_max['total_time']\n",
    "       \n",
    "nsti_med_max = nsti_med_max[idx]"
   ]
  },
  {
   "cell_type": "markdown",
   "metadata": {},
   "source": [
    "# [nstit][nsti_debridet] Merger of nsti demo and debride data"
   ]
  },
  {
   "cell_type": "code",
   "execution_count": 185,
   "metadata": {
    "colab": {},
    "colab_type": "code",
    "id": "vETJeDBtLTiE"
   },
   "outputs": [],
   "source": [
    "# Merges the debride and nsti df to one \n",
    "nsti_full = nstit.merge(nsti_debridet, left_on= \"patient\", right_on = \"study_id\")"
   ]
  },
  {
   "cell_type": "markdown",
   "metadata": {
    "colab_type": "text",
    "id": "tHOtZ2axDRro"
   },
   "source": [
    "## Removing featuresfrom nsti_full\n",
    "\n",
    "Removes Cost, deb, and rec data from the overall dataset while keeping it as a seperate dataset with identifiers \n",
    "\n",
    "- debisolate\n",
    "- recisolate "
   ]
  },
  {
   "cell_type": "code",
   "execution_count": 188,
   "metadata": {},
   "outputs": [],
   "source": [
    "#Remove cost data\n",
    "listcost = list(i for i in list(nsti_full.columns) if not (re.search(r'(costs)',i)))\n",
    "nsti_full = nsti_full[listcost]\n",
    "\n",
    "# removing the deb data \n",
    "listdeb = list(i for i in list(nsti_full.columns) if (re.search(r'^(deb)',i)))\n",
    "debisolate = nsti_full[['patient']+listdeb]\n",
    "nsti_full.drop(listdeb, axis = 1, inplace = True)\n",
    "\n",
    "# removin the rec data\n",
    "listrec = list(i for i in list(nsti_full.columns) if (re.search(r'^(rec)',i)))\n",
    "recisolate = nsti_full[['patient']+listrec]\n",
    "nsti_full.drop(listrec, axis = 1, inplace = True)"
   ]
  },
  {
   "cell_type": "markdown",
   "metadata": {
    "colab_type": "text",
    "id": "K_KYclMuDRrj"
   },
   "source": [
    "## Formatting the date in [nsti_full] and pulling the target variable"
   ]
  },
  {
   "cell_type": "code",
   "execution_count": 228,
   "metadata": {
    "colab": {},
    "colab_type": "code",
    "id": "CP8LP7imkm9Z"
   },
   "outputs": [],
   "source": [
    "# Removing nulls\n",
    "nsti_full = nsti_full[nsti_full['minutes_from'] != \"NA\"]\n",
    "\n",
    "#Formating string dates to timedate type\n",
    "nsti_full['admit.x'] = pd.to_datetime(nsti_full['admit.x'], format = '%m/%d/%Y')\n",
    "nsti_full['discharge'] = pd.to_datetime(nsti_full['discharge'], format = '%m/%d/%Y')\n",
    "nsti_full['minutes_from'] = pd.to_numeric(nsti_full['minutes_from']).apply(lambda x: timedelta(minutes = x))\n",
    "\n",
    "# Making a feature that combines the minutes from {admit to last debridement} \n",
    "# and the date of the admission to get rough time of the actual time date of debridement\n",
    "nsti_full['admittodeb'] = nsti_full['admit.x'] + nsti_full['minutes_from']"
   ]
  },
  {
   "cell_type": "markdown",
   "metadata": {},
   "source": [
    "## TASK: Find the difference in time between the last debridement and last medication \n",
    "\n",
    "- Status: Completed \n",
    "\n",
    "- Notes: \n",
    "\n",
    "The main issue is that there are negative values when it should be mostly positive.\n",
    "\n",
    "It was noted that for some of the patients, incomplete data as well as wrong indication towards data usage.\n",
    "\n",
    "Manual picking is needed \n",
    "\n",
    "- Updates: Need to work off of the new dataset"
   ]
  },
  {
   "cell_type": "code",
   "execution_count": 229,
   "metadata": {
    "colab": {},
    "colab_type": "code",
    "id": "4RfDrMq2npKV"
   },
   "outputs": [],
   "source": [
    "# making sure that the dataset only has positive variables \n",
    "nsti_complete = nsti_full.merge(nsti_med_max, left_on = 'patient', right_on= 'study_id' )\n",
    "\n",
    "# Creating a new feature in the difference in hours \n",
    "nsti_complete['debtomed'] = (nsti_complete['total_time'] - nsti_complete['admittodeb']) / np.timedelta64(1, 'h') \n",
    "nsti_complete = nsti_complete.loc[nsti_complete['debtomed'] >= 0.0]\n",
    "nsti_complete = nsti_complete[nsti_complete.columns[~nsti_complete.columns.str.contains('minutes')]]\n",
    "\n",
    "# Cleaning up the dataset by eliminating some of the extra features \n",
    "nsti_complete.drop(['discharge','sex','admit.x','location.code.1', 'location.code.2','icd.10.code..1', 'icd.10..1.description','icd.10.code..2','icd10..2.descrition','admit.y',\n",
    "                    'insure','insure_type','admit_date','dc_date','transfer_y','dc.dispo','admittodeb', 'total_time','study_id_y','study_id_x','transfer_x'], axis = 1, inplace = True)"
   ]
  },
  {
   "cell_type": "markdown",
   "metadata": {},
   "source": [
    "# Model creation \n",
    "\n",
    "Under construction need some more work and understand of the data "
   ]
  },
  {
   "cell_type": "markdown",
   "metadata": {
    "colab_type": "text",
    "id": "YTQLrnpbzDFX"
   },
   "source": [
    "# Feature encoding \n",
    "\n",
    "Need to figure out what exactly to encode some of the features "
   ]
  },
  {
   "cell_type": "code",
   "execution_count": null,
   "metadata": {
    "colab": {
     "base_uri": "https://localhost:8080/",
     "height": 119
    },
    "colab_type": "code",
    "id": "N5rUDoiYDRr5",
    "outputId": "56cb7130-037d-4fdd-cabf-57e920d1e247",
    "scrolled": true
   },
   "outputs": [
    {
     "name": "stderr",
     "output_type": "stream",
     "text": [
      "/usr/local/lib/python3.6/dist-packages/pandas/core/generic.py:6517: SettingWithCopyWarning: \n",
      "A value is trying to be set on a copy of a slice from a DataFrame.\n",
      "Try using .loc[row_indexer,col_indexer] = value instead\n",
      "\n",
      "See the caveats in the documentation: http://pandas.pydata.org/pandas-docs/stable/indexing.html#indexing-view-versus-copy\n",
      "  regex=regex)\n"
     ]
    }
   ],
   "source": [
    "nsti_complete_filter = nsti_complete[nsti_complete['debtomed'] <5000]\n",
    "\n",
    "binary_change = {\"outcome\": {\"A\": 1, \"D\": 0}}\n",
    "\n",
    "nsti_complete_filter.replace(binary_change, inplace=True)\n",
    "nsti_complete_filter.head()\n",
    "\n",
    "#https://stackoverflow.com/questions/29034928/pandas-convert-a-column-of-list-to-dummies\n",
    "nsti_complete_filter = pd.get_dummies(nsti_complete_filter, columns =['mechanism.of.infection', 'race'])\n",
    "\n",
    "dummy_code = pd.get_dummies(nsti_complete_filter['comorbid.codes'].str.split(';').apply(pd.Series).stack()).sum(level=0)\n",
    "dummy_region = pd.get_dummies(nsti_complete_filter['region'].str.split('; ').apply(pd.Series).stack()).sum(level=0)\n",
    "df_dummyfull = pd.concat([dummy_code,dummy_region],axis=1,join = 'inner')\n",
    "nsti_new = pd.concat([nsti_complete_filter, dummy_region], axis = 1)\n",
    "nsti_new.drop(['region','patient','comorbid.codes','co.morbids','icu.los','icu.hours','hosp.los', 'vent.days'], axis = 1, inplace = True)"
   ]
  },
  {
   "cell_type": "markdown",
   "metadata": {
    "colab_type": "text",
    "id": "biganBcpDRr2"
   },
   "source": [
    "Converting to all floats "
   ]
  },
  {
   "cell_type": "code",
   "execution_count": null,
   "metadata": {
    "colab": {},
    "colab_type": "code",
    "id": "kWPS2MFF_YAt",
    "scrolled": true
   },
   "outputs": [],
   "source": [
    "# see how many na are there\n",
    "fig, ax = plt.subplots(figsize=(15,10))\n",
    "sns.heatmap(nsti_new.dropna().isnull(), cbar=False, cmap=\"YlGnBu_r\")\n",
    "fig.patch.set_facecolor('xkcd:mint green')\n",
    "plt.show()\n",
    "\n",
    "#nsti_new.dropna(axis=1,how='all')"
   ]
  },
  {
   "cell_type": "code",
   "execution_count": null,
   "metadata": {
    "colab": {},
    "colab_type": "code",
    "id": "g6x4tZtfI4aA"
   },
   "outputs": [],
   "source": [
    "corr = nsti_new.corr()"
   ]
  },
  {
   "cell_type": "code",
   "execution_count": null,
   "metadata": {
    "colab": {},
    "colab_type": "code",
    "id": "-IaWBlRXSAXf"
   },
   "outputs": [],
   "source": [
    "fig, ax = plt.subplots(figsize=(20,14))\n",
    "sns.heatmap(corr, \n",
    "        xticklabels=corr.columns,\n",
    "        yticklabels=corr.columns,\n",
    "        cmap = \"PiYG\")\n"
   ]
  },
  {
   "cell_type": "markdown",
   "metadata": {
    "colab_type": "text",
    "id": "Htp9ujwy1z8t"
   },
   "source": [
    "Doesn't seem to be that much correlation for our target "
   ]
  },
  {
   "cell_type": "markdown",
   "metadata": {
    "colab_type": "text",
    "id": "CqVFFymFDRsS"
   },
   "source": [
    "Feature selection"
   ]
  },
  {
   "cell_type": "code",
   "execution_count": null,
   "metadata": {
    "colab": {},
    "colab_type": "code",
    "id": "9JDW3yGdDRsS"
   },
   "outputs": [],
   "source": [
    "from sklearn.feature_selection import RFE\n",
    "from sklearn.decomposition import PCA\n",
    "from sklearn.ensemble import ExtraTreesClassifier\n",
    "\n",
    "import seaborn as sns\n",
    "import statsmodels.api as sm\n",
    "%matplotlib inline\n",
    "from sklearn.model_selection import train_test_split\n",
    "from sklearn.linear_model import LinearRegression\n",
    "from sklearn.feature_selection import RFE\n",
    "from sklearn.linear_model import RidgeCV, LassoCV, Ridge, Lasso"
   ]
  },
  {
   "cell_type": "code",
   "execution_count": null,
   "metadata": {
    "colab": {
     "base_uri": "https://localhost:8080/",
     "height": 204
    },
    "colab_type": "code",
    "id": "ohZwPrHIqGmB",
    "outputId": "f2ff0189-c4e6-48f5-ad34-a9be77ee1a22",
    "scrolled": true
   },
   "outputs": [
    {
     "name": "stdout",
     "output_type": "stream",
     "text": [
      "                          Specs       Score\n",
      "0                           age  961.014047\n",
      "54                        race_  368.000000\n",
      "48  mechanism.of.infection_BURN  368.000000\n",
      "6                         cauti  368.000000\n",
      "18                          vap  368.000000\n",
      "20                     bleeding  368.000000\n",
      "15                           pe  322.000000\n",
      "13                unplanned.ett  312.166667\n",
      "16                 unplanned.or  304.500000\n",
      "10                          cpr  291.250000\n"
     ]
    }
   ],
   "source": [
    "from sklearn.feature_selection import SelectKBest\n",
    "from sklearn.feature_selection import chi2\n",
    "\n",
    "nsti_new = nsti_new.dropna()\n",
    "y = nsti_new['debtomed']\n",
    "y = y.astype('int')\n",
    "nsti_new.drop(['debtomed','unnamed:_0'], axis = 1, inplace = True)\n",
    "X = nsti_new\n",
    "\n",
    "# Univariate selection\n",
    "bestfeatures = SelectKBest(score_func=chi2, k=10)\n",
    "fit = bestfeatures.fit(X,y)\n",
    "dfscores = pd.DataFrame(fit.scores_)\n",
    "dfcolumns = pd.DataFrame(X.columns)\n",
    "#concat two dataframes for better visualization \n",
    "featureScores = pd.concat([dfcolumns,dfscores],axis=1)\n",
    "featureScores.columns = ['Specs','Score']  #naming the dataframe columns\n",
    "print(featureScores.nlargest(10,'Score'))  #print 10 best features\n",
    "\n",
    "#tasks: Need to convert other strings to numerical or numeraid"
   ]
  },
  {
   "cell_type": "code",
   "execution_count": null,
   "metadata": {
    "colab": {
     "base_uri": "https://localhost:8080/",
     "height": 34
    },
    "colab_type": "code",
    "id": "dwErsLFRnWtz",
    "outputId": "a7be853e-badc-4c51-d2b8-a112b69b9758"
   },
   "outputs": [
    {
     "name": "stdout",
     "output_type": "stream",
     "text": [
      "coefficient of determination: 0.04367364652493122\n"
     ]
    }
   ],
   "source": [
    "model = LinearRegression().fit(X[['age','race_','mechanism.of.infection_BURN', 'cauti','vap','bleeding','pe','unplanned.ett','unplanned.or','cpr']], y)\n",
    "\n",
    "r_sq = model.score(X[['age','race_','mechanism.of.infection_BURN', 'cauti','vap','bleeding','pe','unplanned.ett','unplanned.or','cpr']], y)\n",
    "print('coefficient of determination:', r_sq)\n"
   ]
  },
  {
   "cell_type": "markdown",
   "metadata": {
    "colab_type": "text",
    "id": "P07ZPzEUEj0L"
   },
   "source": [
    "Seeing as a linear regression doesn't really help with this"
   ]
  }
 ],
 "metadata": {
  "accelerator": "GPU",
  "colab": {
   "collapsed_sections": [],
   "name": "NSTI_Model.ipynb",
   "provenance": [],
   "toc_visible": true,
   "version": "0.3.2"
  },
  "kernelspec": {
   "display_name": "Python 3",
   "language": "python",
   "name": "python3"
  },
  "language_info": {
   "codemirror_mode": {
    "name": "ipython",
    "version": 3
   },
   "file_extension": ".py",
   "mimetype": "text/x-python",
   "name": "python",
   "nbconvert_exporter": "python",
   "pygments_lexer": "ipython3",
   "version": "3.7.3"
  }
 },
 "nbformat": 4,
 "nbformat_minor": 4
}
